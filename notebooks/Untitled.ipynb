{
 "cells": [
  {
   "cell_type": "code",
   "execution_count": 1,
   "id": "0d0b2cfa-a539-45c9-95ba-4c486e6c70d3",
   "metadata": {},
   "outputs": [
    {
     "name": "stdout",
     "output_type": "stream",
     "text": [
      "Please install CDO version 1.9.7 or above: https://code.mpimet.mpg.de/projects/cdo/ or https://anaconda.org/conda-forge/cdo\n"
     ]
    }
   ],
   "source": [
    "import rioxarray # for 'rio' accessor\n",
    "import xarray\n",
    "import nctoolkit as nc\n",
    "import yaml\n",
    "data_path = \"/workspace/data\""
   ]
  },
  {
   "cell_type": "code",
   "execution_count": 2,
   "id": "edc55f41-d9db-4812-b1d8-953a5a13bc07",
   "metadata": {},
   "outputs": [
    {
     "data": {
      "text/plain": [
       "{'paths': {'hr': '/workspace/data/wrf/', 'lr': '/workspace/data/era5/'},\n",
       " 'vars': {'hr': ['U10'], 'lr': ['uas']}}"
      ]
     },
     "execution_count": 2,
     "metadata": {},
     "output_type": "execute_result"
    }
   ],
   "source": [
    "# Read YAML file\n",
    "with open(\"/workspace/config/config.yml\", 'r') as stream:\n",
    "    conf = yaml.safe_load(stream)\n",
    "conf"
   ]
  },
  {
   "cell_type": "code",
   "execution_count": 3,
   "id": "c892c4cc-1635-417f-ae00-516914a17cca",
   "metadata": {},
   "outputs": [],
   "source": [
    "year = 2000\n",
    "month = 10"
   ]
  },
  {
   "cell_type": "code",
   "execution_count": 4,
   "id": "9e5d96e8-73e3-43b0-99b2-f831c043587f",
   "metadata": {},
   "outputs": [],
   "source": [
    "ncpath = f\"{data_path}/wrf/U10/200010.nc\"\n",
    "wrf = xarray.open_dataset(ncpath, engine=\"h5netcdf\", decode_coords=\"all\")"
   ]
  },
  {
   "cell_type": "code",
   "execution_count": 5,
   "id": "f426110a-2f97-41f6-9240-308f90f5743d",
   "metadata": {},
   "outputs": [],
   "source": [
    "from scipy.interpolate import LinearNDInterpolator\n",
    "var = \"uas\"\n",
    "\n",
    "ncpath = f\"{data_path}/era5/{var}/uas_1hr_ERA5_an_RDA-025_1979010100-1979010105.nc\"\n",
    "era = xarray.open_dataset(ncpath, engine=\"h5netcdf\", decode_coords=\"all\")"
   ]
  },
  {
   "cell_type": "code",
   "execution_count": 15,
   "id": "b5cc353c-40af-418a-bfe5-7674ffdca974",
   "metadata": {},
   "outputs": [
    {
     "data": {
      "text/plain": [
       "632"
      ]
     },
     "execution_count": 15,
     "metadata": {},
     "output_type": "execute_result"
    }
   ],
   "source": [
    "scale_factor = 8\n",
    "nearest_multiple = wrf.rlon.shape[0] - wrf.rlon.shape[0] % 8 \n",
    "nearest_multiple"
   ]
  },
  {
   "cell_type": "code",
   "execution_count": 11,
   "id": "ffc201d0-7046-4e99-8a7a-735ce5ea269c",
   "metadata": {},
   "outputs": [],
   "source": [
    "\n",
    "era_interp = era.interp(coords = {\"latitude\": wrf.lat[:-59, ...], \"longitude\": wrf.lon[:-59, ...]+360})"
   ]
  },
  {
   "cell_type": "code",
   "execution_count": 12,
   "id": "53de6e24-32aa-4c1f-8772-4e1d7db0b5a8",
   "metadata": {},
   "outputs": [
    {
     "ename": "ValueError",
     "evalue": "Could not coarsen a dimension of size 639 with window 8 and boundary='exact'. Try a different 'boundary' option.",
     "output_type": "error",
     "traceback": [
      "\u001b[0;31m---------------------------------------------------------------------------\u001b[0m",
      "\u001b[0;31mValueError\u001b[0m                                Traceback (most recent call last)",
      "Input \u001b[0;32mIn [12]\u001b[0m, in \u001b[0;36m<cell line: 1>\u001b[0;34m()\u001b[0m\n\u001b[0;32m----> 1\u001b[0m \u001b[43mera_interp\u001b[49m\u001b[38;5;241;43m.\u001b[39;49m\u001b[43muas\u001b[49m\u001b[43m[\u001b[49m\u001b[38;5;241;43m0\u001b[39;49m\u001b[43m,\u001b[49m\u001b[43m \u001b[49m\u001b[38;5;241;43m.\u001b[39;49m\u001b[38;5;241;43m.\u001b[39;49m\u001b[38;5;241;43m.\u001b[39;49m\u001b[43m]\u001b[49m\u001b[38;5;241;43m.\u001b[39;49m\u001b[43mcoarsen\u001b[49m\u001b[43m(\u001b[49m\u001b[43mrlat\u001b[49m\u001b[38;5;241;43m=\u001b[39;49m\u001b[38;5;241;43m8\u001b[39;49m\u001b[43m)\u001b[49m\u001b[38;5;241;43m.\u001b[39;49m\u001b[43mmean\u001b[49m\u001b[43m(\u001b[49m\u001b[43m)\u001b[49m\u001b[38;5;241;43m.\u001b[39;49m\u001b[43mcoarsen\u001b[49m\u001b[43m(\u001b[49m\u001b[43mrlon\u001b[49m\u001b[38;5;241;43m=\u001b[39;49m\u001b[38;5;241;43m8\u001b[39;49m\u001b[43m)\u001b[49m\u001b[38;5;241;43m.\u001b[39;49m\u001b[43mmean\u001b[49m\u001b[43m(\u001b[49m\u001b[43m)\u001b[49m\u001b[38;5;241m.\u001b[39mplot()\n",
      "File \u001b[0;32m/opt/conda/lib/python3.10/site-packages/xarray/core/rolling.py:1003\u001b[0m, in \u001b[0;36mDataArrayCoarsen._reduce_method.<locals>.wrapped_func\u001b[0;34m(self, keep_attrs, **kwargs)\u001b[0m\n\u001b[1;32m    999\u001b[0m \u001b[38;5;28;01mfrom\u001b[39;00m \u001b[38;5;21;01mxarray\u001b[39;00m\u001b[38;5;21;01m.\u001b[39;00m\u001b[38;5;21;01mcore\u001b[39;00m\u001b[38;5;21;01m.\u001b[39;00m\u001b[38;5;21;01mdataarray\u001b[39;00m \u001b[38;5;28;01mimport\u001b[39;00m DataArray\n\u001b[1;32m   1001\u001b[0m keep_attrs \u001b[38;5;241m=\u001b[39m \u001b[38;5;28mself\u001b[39m\u001b[38;5;241m.\u001b[39m_get_keep_attrs(keep_attrs)\n\u001b[0;32m-> 1003\u001b[0m reduced \u001b[38;5;241m=\u001b[39m \u001b[38;5;28;43mself\u001b[39;49m\u001b[38;5;241;43m.\u001b[39;49m\u001b[43mobj\u001b[49m\u001b[38;5;241;43m.\u001b[39;49m\u001b[43mvariable\u001b[49m\u001b[38;5;241;43m.\u001b[39;49m\u001b[43mcoarsen\u001b[49m\u001b[43m(\u001b[49m\n\u001b[1;32m   1004\u001b[0m \u001b[43m    \u001b[49m\u001b[38;5;28;43mself\u001b[39;49m\u001b[38;5;241;43m.\u001b[39;49m\u001b[43mwindows\u001b[49m\u001b[43m,\u001b[49m\u001b[43m \u001b[49m\u001b[43mfunc\u001b[49m\u001b[43m,\u001b[49m\u001b[43m \u001b[49m\u001b[38;5;28;43mself\u001b[39;49m\u001b[38;5;241;43m.\u001b[39;49m\u001b[43mboundary\u001b[49m\u001b[43m,\u001b[49m\u001b[43m \u001b[49m\u001b[38;5;28;43mself\u001b[39;49m\u001b[38;5;241;43m.\u001b[39;49m\u001b[43mside\u001b[49m\u001b[43m,\u001b[49m\u001b[43m \u001b[49m\u001b[43mkeep_attrs\u001b[49m\u001b[43m,\u001b[49m\u001b[43m \u001b[49m\u001b[38;5;241;43m*\u001b[39;49m\u001b[38;5;241;43m*\u001b[39;49m\u001b[43mkwargs\u001b[49m\n\u001b[1;32m   1005\u001b[0m \u001b[43m\u001b[49m\u001b[43m)\u001b[49m\n\u001b[1;32m   1006\u001b[0m coords \u001b[38;5;241m=\u001b[39m {}\n\u001b[1;32m   1007\u001b[0m \u001b[38;5;28;01mfor\u001b[39;00m c, v \u001b[38;5;129;01min\u001b[39;00m \u001b[38;5;28mself\u001b[39m\u001b[38;5;241m.\u001b[39mobj\u001b[38;5;241m.\u001b[39mcoords\u001b[38;5;241m.\u001b[39mitems():\n",
      "File \u001b[0;32m/opt/conda/lib/python3.10/site-packages/xarray/core/variable.py:2448\u001b[0m, in \u001b[0;36mVariable.coarsen\u001b[0;34m(self, windows, func, boundary, side, keep_attrs, **kwargs)\u001b[0m\n\u001b[1;32m   2445\u001b[0m \u001b[38;5;28;01mif\u001b[39;00m \u001b[38;5;129;01mnot\u001b[39;00m windows:\n\u001b[1;32m   2446\u001b[0m     \u001b[38;5;28;01mreturn\u001b[39;00m \u001b[38;5;28mself\u001b[39m\u001b[38;5;241m.\u001b[39m_replace(attrs\u001b[38;5;241m=\u001b[39m_attrs)\n\u001b[0;32m-> 2448\u001b[0m reshaped, axes \u001b[38;5;241m=\u001b[39m \u001b[38;5;28;43mself\u001b[39;49m\u001b[38;5;241;43m.\u001b[39;49m\u001b[43mcoarsen_reshape\u001b[49m\u001b[43m(\u001b[49m\u001b[43mwindows\u001b[49m\u001b[43m,\u001b[49m\u001b[43m \u001b[49m\u001b[43mboundary\u001b[49m\u001b[43m,\u001b[49m\u001b[43m \u001b[49m\u001b[43mside\u001b[49m\u001b[43m)\u001b[49m\n\u001b[1;32m   2449\u001b[0m \u001b[38;5;28;01mif\u001b[39;00m \u001b[38;5;28misinstance\u001b[39m(func, \u001b[38;5;28mstr\u001b[39m):\n\u001b[1;32m   2450\u001b[0m     name \u001b[38;5;241m=\u001b[39m func\n",
      "File \u001b[0;32m/opt/conda/lib/python3.10/site-packages/xarray/core/variable.py:2484\u001b[0m, in \u001b[0;36mVariable.coarsen_reshape\u001b[0;34m(self, windows, boundary, side)\u001b[0m\n\u001b[1;32m   2482\u001b[0m \u001b[38;5;28;01mif\u001b[39;00m boundary[d] \u001b[38;5;241m==\u001b[39m \u001b[38;5;124m\"\u001b[39m\u001b[38;5;124mexact\u001b[39m\u001b[38;5;124m\"\u001b[39m:\n\u001b[1;32m   2483\u001b[0m     \u001b[38;5;28;01mif\u001b[39;00m n \u001b[38;5;241m*\u001b[39m window \u001b[38;5;241m!=\u001b[39m size:\n\u001b[0;32m-> 2484\u001b[0m         \u001b[38;5;28;01mraise\u001b[39;00m \u001b[38;5;167;01mValueError\u001b[39;00m(\n\u001b[1;32m   2485\u001b[0m             \u001b[38;5;124mf\u001b[39m\u001b[38;5;124m\"\u001b[39m\u001b[38;5;124mCould not coarsen a dimension of size \u001b[39m\u001b[38;5;132;01m{\u001b[39;00msize\u001b[38;5;132;01m}\u001b[39;00m\u001b[38;5;124m with \u001b[39m\u001b[38;5;124m\"\u001b[39m\n\u001b[1;32m   2486\u001b[0m             \u001b[38;5;124mf\u001b[39m\u001b[38;5;124m\"\u001b[39m\u001b[38;5;124mwindow \u001b[39m\u001b[38;5;132;01m{\u001b[39;00mwindow\u001b[38;5;132;01m}\u001b[39;00m\u001b[38;5;124m and boundary=\u001b[39m\u001b[38;5;124m'\u001b[39m\u001b[38;5;124mexact\u001b[39m\u001b[38;5;124m'\u001b[39m\u001b[38;5;124m. Try a different \u001b[39m\u001b[38;5;124m'\u001b[39m\u001b[38;5;124mboundary\u001b[39m\u001b[38;5;124m'\u001b[39m\u001b[38;5;124m option.\u001b[39m\u001b[38;5;124m\"\u001b[39m\n\u001b[1;32m   2487\u001b[0m         )\n\u001b[1;32m   2488\u001b[0m \u001b[38;5;28;01melif\u001b[39;00m boundary[d] \u001b[38;5;241m==\u001b[39m \u001b[38;5;124m\"\u001b[39m\u001b[38;5;124mtrim\u001b[39m\u001b[38;5;124m\"\u001b[39m:\n\u001b[1;32m   2489\u001b[0m     \u001b[38;5;28;01mif\u001b[39;00m side[d] \u001b[38;5;241m==\u001b[39m \u001b[38;5;124m\"\u001b[39m\u001b[38;5;124mleft\u001b[39m\u001b[38;5;124m\"\u001b[39m:\n",
      "\u001b[0;31mValueError\u001b[0m: Could not coarsen a dimension of size 639 with window 8 and boundary='exact'. Try a different 'boundary' option."
     ]
    }
   ],
   "source": [
    "era_interp.uas[0, ...].coarsen(rlat=8).mean().coarsen(rlon=8).mean().plot()"
   ]
  },
  {
   "cell_type": "code",
   "execution_count": null,
   "id": "31c17d19-364a-4f51-a1f0-890decc4862f",
   "metadata": {},
   "outputs": [],
   "source": []
  }
 ],
 "metadata": {
  "kernelspec": {
   "display_name": "Python 3 (ipykernel)",
   "language": "python",
   "name": "python3"
  },
  "language_info": {
   "codemirror_mode": {
    "name": "ipython",
    "version": 3
   },
   "file_extension": ".py",
   "mimetype": "text/x-python",
   "name": "python",
   "nbconvert_exporter": "python",
   "pygments_lexer": "ipython3",
   "version": "3.10.4"
  },
  "vscode": {
   "interpreter": {
    "hash": "e55666fbbf217aa3df372b978577f47b6009e2f78e2ec76a584f49cd54a1e62c"
   }
  }
 },
 "nbformat": 4,
 "nbformat_minor": 5
}
